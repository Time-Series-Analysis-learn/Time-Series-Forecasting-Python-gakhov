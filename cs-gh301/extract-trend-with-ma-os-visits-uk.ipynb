{
 "cells": [
  {
   "cell_type": "markdown",
   "metadata": {},
   "source": [
    "<img style=\"float: right;\" src=\"https://www.gakhov.com/static/gakhov_logo_text.svg\">\n",
    "\n",
    "<dl>\n",
    "  <dt>CS-GH301/2018: Introduction to Time Series Forecasting with Python</dt>\n",
    "  <dd>Dr. Andrii Gakhov</dd>\n",
    "</dl>\n",
    "\n",
    "\n",
    "\n",
    "------------------\n",
    "\n",
    "\n",
    "# Lecture 3.1: Time Series Decomposition: Trend component\n",
    "\n",
    "In this Jupyter Notebook we use Moving Average (Running Mean) technique to extract the Trend component from the time series.\n",
    "\n",
    "## The dataset for this example is \"OS visits to UK\"\n",
    "\n",
    "> The dataset represents the monthly total number of visits to the UK by overseas residents (in thousands)\n",
    "> from January 1980 to December 2017. Source: [Office for National Statistics](https://www.ons.gov.uk/peoplepopulationandcommunity/leisureandtourism/timeseries/gmaa/ott)"
   ]
  },
  {
   "cell_type": "code",
   "execution_count": null,
   "metadata": {},
   "outputs": [],
   "source": [
    "import warnings\n",
    "warnings.filterwarnings('ignore')\n",
    "\n",
    "import seaborn as sns\n",
    "import matplotlib.pyplot as plt\n",
    "%matplotlib inline\n",
    "sns.set(style=\"ticks\")"
   ]
  },
  {
   "cell_type": "markdown",
   "metadata": {},
   "source": [
    "#### Step 1. Load the dataset"
   ]
  },
  {
   "cell_type": "code",
   "execution_count": null,
   "metadata": {},
   "outputs": [],
   "source": [
    "import pandas as pd\n",
    "\n",
    "filepath = \"data/os-visits-uk.csv\"\n",
    "\n",
    "df = pd.read_csv(filepath, header=None, skiprows=6, parse_dates=[0], names=['period', 'value'])\n",
    "df.value.astype(int, copy=False);"
   ]
  },
  {
   "cell_type": "code",
   "execution_count": null,
   "metadata": {},
   "outputs": [],
   "source": [
    "fig, ax = plt.subplots(figsize=(18,6))\n",
    "\n",
    "df.plot(x=\"period\", y=\"value\", ax=ax)\n",
    "plt.legend(loc='upper left');"
   ]
  },
  {
   "cell_type": "markdown",
   "metadata": {},
   "source": [
    "#### Step 2. Apply Moving Averate (Rolling Mean) to the time series"
   ]
  },
  {
   "cell_type": "code",
   "execution_count": null,
   "metadata": {},
   "outputs": [],
   "source": [
    "rolling_mean = df.rolling(window=12, center=True, on=\"period\").mean()"
   ]
  },
  {
   "cell_type": "code",
   "execution_count": null,
   "metadata": {},
   "outputs": [],
   "source": [
    "fig, ax = plt.subplots(figsize=(18,6))\n",
    "\n",
    "rolling_mean.plot(x=\"period\", y=\"value\", ax=ax, label=\"Rolling Mean (Moving Average)\")\n",
    "plt.legend(loc='upper left');"
   ]
  },
  {
   "cell_type": "markdown",
   "metadata": {},
   "source": [
    "#### Step 3. Plot all together"
   ]
  },
  {
   "cell_type": "code",
   "execution_count": null,
   "metadata": {},
   "outputs": [],
   "source": [
    "fig, ax = plt.subplots(figsize=(18,6))\n",
    "\n",
    "df.plot(x=\"period\", y=\"value\", ax=ax)\n",
    "rolling_mean.plot(x=\"period\", y=\"value\", ax=ax, label=\"Rolling Mean (Moving Average)\")\n",
    "plt.legend(loc='upper left');"
   ]
  },
  {
   "cell_type": "code",
   "execution_count": null,
   "metadata": {},
   "outputs": [],
   "source": []
  }
 ],
 "metadata": {
  "kernelspec": {
   "display_name": "Python 3",
   "language": "python",
   "name": "python3"
  },
  "language_info": {
   "codemirror_mode": {
    "name": "ipython",
    "version": 3
   },
   "file_extension": ".py",
   "mimetype": "text/x-python",
   "name": "python",
   "nbconvert_exporter": "python",
   "pygments_lexer": "ipython3",
   "version": "3.6.5"
  }
 },
 "nbformat": 4,
 "nbformat_minor": 2
}
