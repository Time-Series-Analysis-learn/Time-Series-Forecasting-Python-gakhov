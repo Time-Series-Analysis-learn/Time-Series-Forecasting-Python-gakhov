{
 "cells": [
  {
   "cell_type": "markdown",
   "metadata": {},
   "source": [
    "<img style=\"float: right;\" src=\"https://www.gakhov.com/static/gakhov_logo_text.svg\">\n",
    "\n",
    "<dl>\n",
    "  <dt>CS-GH301/2018: Introduction to Time Series Forecasting with Python</dt>\n",
    "  <dd>Dr. Andrii Gakhov</dd>\n",
    "</dl>\n",
    "\n",
    "\n",
    "\n",
    "------------------\n",
    "\n",
    "\n",
    "# Lecture 2.1: What is a Time Series?\n",
    "\n",
    "In this Jupyter Notebook we learn how to load, visualize and explain a dataset.\n",
    "\n",
    "## Preliminary analysis of dataset \"OS visits to UK\"\n",
    "\n",
    "> The dataset represents the monthly total number of visits to the UK by overseas residents (in thousands)\n",
    "> from January 1980 to December 2017. Source: [Office for National Statistics](https://www.ons.gov.uk/peoplepopulationandcommunity/leisureandtourism/timeseries/gmaa/ott)"
   ]
  },
  {
   "cell_type": "code",
   "execution_count": null,
   "metadata": {},
   "outputs": [],
   "source": [
    "import warnings\n",
    "warnings.filterwarnings('ignore')\n",
    "\n",
    "import seaborn as sns\n",
    "import matplotlib.pyplot as plt\n",
    "%matplotlib inline\n",
    "sns.set(style=\"ticks\")"
   ]
  },
  {
   "cell_type": "markdown",
   "metadata": {},
   "source": [
    "#### Step 1. Load the dataset"
   ]
  },
  {
   "cell_type": "code",
   "execution_count": null,
   "metadata": {},
   "outputs": [],
   "source": [
    "filepath = \"data/os-visits-uk.csv\""
   ]
  },
  {
   "cell_type": "code",
   "execution_count": null,
   "metadata": {},
   "outputs": [],
   "source": [
    "with open(filepath, \"r\") as f:\n",
    "    content = f.readlines()"
   ]
  },
  {
   "cell_type": "code",
   "execution_count": null,
   "metadata": {},
   "outputs": [],
   "source": [
    "content[:10]"
   ]
  },
  {
   "cell_type": "code",
   "execution_count": null,
   "metadata": {},
   "outputs": [],
   "source": [
    "import pandas as pd\n",
    "\n",
    "df = pd.read_csv(filepath, header=None, skiprows=6, parse_dates=[0], names=['period', 'value'])\n",
    "df.value.astype(int, copy=False);"
   ]
  },
  {
   "cell_type": "markdown",
   "metadata": {},
   "source": [
    "#### Step 2. Table view"
   ]
  },
  {
   "cell_type": "code",
   "execution_count": null,
   "metadata": {},
   "outputs": [],
   "source": [
    "df.head(5)"
   ]
  },
  {
   "cell_type": "code",
   "execution_count": null,
   "metadata": {},
   "outputs": [],
   "source": [
    "df.tail(5)"
   ]
  },
  {
   "cell_type": "code",
   "execution_count": null,
   "metadata": {},
   "outputs": [],
   "source": [
    "max_date  = df.period.max()\n",
    "min_date = df.period.min()\n",
    "\n",
    "num_of_actual_points = df.index.shape[0]\n",
    "num_of_expected_points = (max_date.year - min_date.year) * 12 + max_date.month - min_date.month + 1\n",
    "\n",
    "print(\"Date range: {} - {}\".format(min_date.strftime(\"%d.%m.%Y\"), max_date.strftime(\"%d.%m.%Y\")))\n",
    "print(\"Number of data points: {} of expected {}\".format(num_of_actual_points, num_of_expected_points))"
   ]
  },
  {
   "cell_type": "markdown",
   "metadata": {},
   "source": [
    "#### Step 3. Plot the dataset"
   ]
  },
  {
   "cell_type": "code",
   "execution_count": null,
   "metadata": {},
   "outputs": [],
   "source": [
    "fig, ax = plt.subplots(figsize=(18,6))\n",
    "\n",
    "df.plot(x=\"period\", y=\"value\", ax=ax)\n",
    "plt.legend(loc='upper left');"
   ]
  },
  {
   "cell_type": "code",
   "execution_count": null,
   "metadata": {},
   "outputs": [],
   "source": [
    "zoom_range = df[(df.period >= '2009-01-01') & (df.period < '2012-01-01')].index\n",
    "\n",
    "fig, ax = plt.subplots(figsize=(18,6))\n",
    "df.loc[zoom_range].plot(x=\"period\", y=\"value\", ax=ax, label=\"January 2009 - December 2011\")\n",
    "plt.legend(loc='upper left');"
   ]
  }
 ],
 "metadata": {
  "kernelspec": {
   "display_name": "Python 3",
   "language": "python",
   "name": "python3"
  },
  "language_info": {
   "codemirror_mode": {
    "name": "ipython",
    "version": 3
   },
   "file_extension": ".py",
   "mimetype": "text/x-python",
   "name": "python",
   "nbconvert_exporter": "python",
   "pygments_lexer": "ipython3",
   "version": "3.6.5"
  }
 },
 "nbformat": 4,
 "nbformat_minor": 2
}
