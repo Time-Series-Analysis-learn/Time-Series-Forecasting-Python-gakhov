{
 "cells": [
  {
   "cell_type": "markdown",
   "metadata": {},
   "source": [
    "<img style=\"float: right;\" src=\"https://www.gakhov.com/static/gakhov_logo_text.svg\">\n",
    "\n",
    "<dl>\n",
    "  <dt>CS-GH301/2018: Introduction to Time Series Forecasting with Python</dt>\n",
    "  <dd>Dr. Andrii Gakhov</dd>\n",
    "</dl>\n",
    "\n",
    "\n",
    "\n",
    "------------------\n",
    "\n",
    "\n",
    "# Lecture 1.4: Motivation Example\n",
    "\n",
    "In this Jupyter Notebook we make a brief preliminary analysis of the time series to confirm the [ADAC report](https://www.adac.de/der-adac/verein/reifenbreite/spritpreise-schwankungen/) about petrol price distribution during the day in Germany.\n",
    "\n",
    "## Analysis of dataset \"Benzin Price\"\n",
    "\n",
    "> The dataset represents the hourly price rates for Super 95 petrol in Berlin, Germany (in EUR per 100 liters)\n",
    "> from 12:00 19 September 2018 to 12:00 November 2018. Source: [gakhov.com](https://www.gakhov.com/datasets/benzin-price-2018.html)"
   ]
  },
  {
   "cell_type": "code",
   "execution_count": null,
   "metadata": {},
   "outputs": [],
   "source": [
    "import warnings\n",
    "warnings.filterwarnings('ignore')\n",
    "\n",
    "import seaborn as sns\n",
    "import matplotlib.pyplot as plt\n",
    "%matplotlib inline\n",
    "sns.set(style=\"ticks\")"
   ]
  },
  {
   "cell_type": "markdown",
   "metadata": {},
   "source": [
    "#### Step 1. Load the dataset"
   ]
  },
  {
   "cell_type": "code",
   "execution_count": null,
   "metadata": {},
   "outputs": [],
   "source": [
    "filepath = \"data/benzin-price.csv\""
   ]
  },
  {
   "cell_type": "code",
   "execution_count": null,
   "metadata": {},
   "outputs": [],
   "source": [
    "import pandas as pd\n",
    "\n",
    "df = pd.read_csv(filepath, header=None, skiprows=0, parse_dates=[0], names=['timestamp', 'price'], index_col=0)\n",
    "df.price.astype(float, copy=False);"
   ]
  },
  {
   "cell_type": "code",
   "execution_count": null,
   "metadata": {},
   "outputs": [],
   "source": [
    "df.head(5)"
   ]
  },
  {
   "cell_type": "markdown",
   "metadata": {},
   "source": [
    "#### Step 2. Plot the dataset"
   ]
  },
  {
   "cell_type": "code",
   "execution_count": null,
   "metadata": {},
   "outputs": [],
   "source": [
    "fig, ax = plt.subplots(figsize=(18,6))\n",
    "\n",
    "df.plot(ax=ax)\n",
    "plt.legend(loc='upper left');"
   ]
  },
  {
   "cell_type": "markdown",
   "metadata": {},
   "source": [
    "#### Step 3. Zoom days"
   ]
  },
  {
   "cell_type": "code",
   "execution_count": null,
   "metadata": {},
   "outputs": [],
   "source": [
    "days = df.resample('D', kind='timestamp').sample(n=5, random_state=73).index.tolist()\n",
    "print(days)"
   ]
  },
  {
   "cell_type": "code",
   "execution_count": null,
   "metadata": {},
   "outputs": [],
   "source": [
    "fig, axes = plt.subplots(nrows=5, ncols=1, figsize=(18,18))\n",
    "\n",
    "for index, day in enumerate(days):\n",
    "    start_datetime = day\n",
    "    end_datetime = day + pd.Timedelta('1 days')\n",
    "    zoom_range = (df.index >= start_datetime) & (df.index < end_datetime)\n",
    "    df[zoom_range].plot(\n",
    "        y='price',\n",
    "        kind='line',\n",
    "        ax=axes[index],\n",
    "        title=day.strftime('%Y-%m-%d'))\n"
   ]
  },
  {
   "cell_type": "markdown",
   "metadata": {},
   "source": [
    "#### Step 4. Improve the visualization"
   ]
  },
  {
   "cell_type": "code",
   "execution_count": null,
   "metadata": {},
   "outputs": [],
   "source": [
    "fig, axes = plt.subplots(nrows=5, ncols=1, figsize=(18,18))\n",
    "\n",
    "adac_periods = {\n",
    "    'low': [(15, 17), (19, 22)],\n",
    "    'high': [(6, 9), (12, 15), (17, 19)]\n",
    "}\n",
    "\n",
    "for index, day in enumerate(days):\n",
    "    start_datetime = day\n",
    "    end_datetime = day + pd.Timedelta('1 days')\n",
    "    zoom_range = (df.index >= start_datetime) & (df.index < end_datetime)\n",
    "        \n",
    "    df[zoom_range].plot(\n",
    "        y='price',\n",
    "        kind='line',\n",
    "        drawstyle='steps-post',\n",
    "        ax=axes[index],\n",
    "        title=day.strftime('%Y-%m-%d'))\n",
    "\n",
    "    day_avg = df[zoom_range].price.mean() # compute the average for the current period\n",
    "    axes[index].axhline(y=day_avg, color='grey', linestyle='--')\n",
    "    \n",
    "    for (hour_start, hour_end) in adac_periods['low']:\n",
    "        start = day.replace(hour=hour_start)\n",
    "        end = day.replace(hour=hour_end)\n",
    "        axes[index].axvspan(start, end, color='green', alpha=0.1)\n",
    "\n",
    "    for (hour_start, hour_end) in adac_periods['high']:\n",
    "        start = day.replace(hour=hour_start)\n",
    "        end = day.replace(hour=hour_end)\n",
    "        axes[index].axvspan(start, end, color='red', alpha=0.1)\n"
   ]
  },
  {
   "cell_type": "code",
   "execution_count": null,
   "metadata": {},
   "outputs": [],
   "source": []
  }
 ],
 "metadata": {
  "kernelspec": {
   "display_name": "Python 3",
   "language": "python",
   "name": "python3"
  },
  "language_info": {
   "codemirror_mode": {
    "name": "ipython",
    "version": 3
   },
   "file_extension": ".py",
   "mimetype": "text/x-python",
   "name": "python",
   "nbconvert_exporter": "python",
   "pygments_lexer": "ipython3",
   "version": "3.6.5"
  }
 },
 "nbformat": 4,
 "nbformat_minor": 2
}
