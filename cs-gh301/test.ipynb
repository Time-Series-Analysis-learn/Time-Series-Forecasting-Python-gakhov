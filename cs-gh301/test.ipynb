{
 "cells": [
  {
   "cell_type": "markdown",
   "metadata": {},
   "source": [
    "<img style=\"float: right;\" src=\"https://www.gakhov.com/static/gakhov_logo_text.svg\">\n",
    "\n",
    "<dl>\n",
    "  <dt>CS-GH301/2018: Introduction to Time Series Forecasting with Python</dt>\n",
    "  <dd>Dr. Andrii Gakhov</dd>\n",
    "</dl>\n",
    "\n",
    "\n",
    "\n",
    "------------------\n",
    "\n",
    "\n",
    "# QUIZ: Test the environment\n",
    "\n",
    "### Instructions\n",
    "Execute this Jupyter Notebook (select in menu `Kernel` -> `Restart & Run All`) to check that all nessesary packages and datasets have been successfully installed and available to use. Reconfirm that you have \"OK\" for all steps. If you have issues with installing the required packages, check the F.A.Q or ask questions in the Slack channel.\n",
    "\n",
    "> **At the end, the success CODE will be generate that you have to enter as the answer for the QUIZ.**"
   ]
  },
  {
   "cell_type": "code",
   "execution_count": null,
   "metadata": {},
   "outputs": [],
   "source": [
    "import warnings\n",
    "warnings.filterwarnings('ignore')\n",
    "\n",
    "complete_statuses = []"
   ]
  },
  {
   "cell_type": "markdown",
   "metadata": {},
   "source": [
    "#### Step 1. Check the intepreter"
   ]
  },
  {
   "cell_type": "code",
   "execution_count": null,
   "metadata": {},
   "outputs": [],
   "source": [
    "import sys\n",
    "\n",
    "if sys.hexversion >= 0x030300F0:\n",
    "    complete_statuses.append(\"0\")\n",
    "    print(\"OK: Python {}\".format(sys.version))\n",
    "else:\n",
    "    print(\"WARNING: Python 3.3+ is required to run examples for this course\")"
   ]
  },
  {
   "cell_type": "markdown",
   "metadata": {},
   "source": [
    "#### Step 2. Check for installed packages"
   ]
  },
  {
   "cell_type": "code",
   "execution_count": null,
   "metadata": {},
   "outputs": [],
   "source": [
    "REQUIRED_PKGS = [\n",
    "    \"numpy\",\n",
    "    \"pandas\",\n",
    "    \"scipy\",\n",
    "    \"matplotlib\",\n",
    "    \"sklearn.metrics\",\n",
    "    \"statsmodels.tsa.statespace\",\n",
    "    \"fbprophet\",\n",
    "    \"keras.layers\",\n",
    "    \"sklearn\",\n",
    "    \"keras\",\n",
    "]\n",
    "\n",
    "for pkg in REQUIRED_PKGS:\n",
    "    warnings.filterwarnings(\"ignore\", category=DeprecationWarning)\n",
    "    try:\n",
    "        p = __import__(pkg)\n",
    "    except ImportError:\n",
    "        print(\"ERROR: Package {} is not installed\".format(pkg))\n",
    "        \n",
    "    if p.__path__ and p.__path__[0].startswith(sys.prefix):\n",
    "        print(\"OK: Package {} is available\".format(pkg))\n",
    "        complete_statuses.append(\"a\")\n",
    "    else:\n",
    "        print(\"ERROR: Package {} isn't isolated\".format(pkg))\n"
   ]
  },
  {
   "cell_type": "markdown",
   "metadata": {},
   "source": [
    "#### Step 3. Check for datasets"
   ]
  },
  {
   "cell_type": "code",
   "execution_count": null,
   "metadata": {},
   "outputs": [],
   "source": [
    "import os.path\n",
    "\n",
    "REQUIRED_DATASETS = [\n",
    "    \"alcoholic-drinks.csv\",\n",
    "    \"avg-ukraine-EUR-cash.csv\",\n",
    "    \"international-airline-passengers.csv\",\n",
    "    \"monthly-reported-number-of-cases.csv\",\n",
    "    \"os-visits-uk.csv\",\n",
    "    \"visits-abroad-uk.csv\",\n",
    "    \"wikipedia-en-trump-mobile.json\",\n",
    "    \"wikipedia-en-brexit-desktop.json\",\n",
    "]\n",
    "\n",
    "data_dir = \"{}/data/\".format(os.getcwd())\n",
    "for ds in REQUIRED_DATASETS:\n",
    "    if os.path.isfile(os.path.join(data_dir, ds)):\n",
    "        print(\"OK: Dataset {} is available\".format(ds))\n",
    "        complete_statuses.append(\"d\")\n",
    "    else:\n",
    "        print(\"ERROR: Dataset {} is missing\".format(ds))\n"
   ]
  },
  {
   "cell_type": "markdown",
   "metadata": {},
   "source": [
    "#### Step 4. Generate the code\n",
    "\n",
    "Please, copy the code below and paste it as an answer for the QUIZ"
   ]
  },
  {
   "cell_type": "code",
   "execution_count": null,
   "metadata": {},
   "outputs": [],
   "source": [
    "code = int(\"\".join(complete_statuses), 16)\n",
    "code = sum([int(digit) for digit in str(code)])\n",
    "print(\"THE CODE: {}\".format(code))\n",
    "complete_statuses = []"
   ]
  }
 ],
 "metadata": {
  "kernelspec": {
   "display_name": "Python 3",
   "language": "python",
   "name": "python3"
  },
  "language_info": {
   "codemirror_mode": {
    "name": "ipython",
    "version": 3
   },
   "file_extension": ".py",
   "mimetype": "text/x-python",
   "name": "python",
   "nbconvert_exporter": "python",
   "pygments_lexer": "ipython3",
   "version": "3.6.5"
  }
 },
 "nbformat": 4,
 "nbformat_minor": 2
}
